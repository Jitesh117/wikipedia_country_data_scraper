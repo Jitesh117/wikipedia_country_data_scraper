{
 "cells": [
  {
   "cell_type": "code",
   "execution_count": 69,
   "metadata": {},
   "outputs": [],
   "source": [
    "import requests\n",
    "from bs4 import BeautifulSoup as bs\n"
   ]
  },
  {
   "cell_type": "code",
   "execution_count": 70,
   "metadata": {},
   "outputs": [],
   "source": [
    "import json\n",
    "def export_json(country_info):\n",
    "    with open(f\"{country_info['title']}.json\", \"w\", encoding='utf-8') as outfile: \n",
    "        json.dump(country_info, outfile,ensure_ascii=False)"
   ]
  },
  {
   "cell_type": "code",
   "execution_count": 71,
   "metadata": {},
   "outputs": [],
   "source": [
    "def get_content_value(row_data):\n",
    "    if row_data.find(\"li\"):\n",
    "        return [li.get_text(\" \", strip=True).replace(\"\\xa0\", \" \") for li in row_data.find_all(\"li\")]\n",
    "    else:\n",
    "        return row_data.get_text(\" \", strip = True).replace(\"\\xa0\", \" \")\n",
    "\n",
    "\n",
    "base_url = \"https://en.wikipedia.org/\"\n",
    "\n",
    "def get_info_box(url, country_info):\n",
    "    r = requests.get(base_url + url)\n",
    "    soup = bs(r.content)\n",
    "    for tag in soup.find_all([\"sup\", \"span\"]):\n",
    "        tag.decompose()\n",
    "    infobox = soup.find('table',class_ = \"infobox ib-country vcard\")\n",
    "    info_rows = infobox.find_all(\"tr\")\n",
    "      \n",
    "    for index, row in enumerate(info_rows):\n",
    "        # print(index)\n",
    "        if index == 0:\n",
    "            country_info['title'] = row.find(\"th\").get_text(\" \", strip=True)\n",
    "        else:\n",
    "            header = row.find('th')\n",
    "            data = row.find('td')\n",
    "            if header and data:\n",
    "                content_key = row.find(\"th\").get_text(\" \", strip=True)\n",
    "                content_value = get_content_value(row.find(\"td\"))\n",
    "                country_info[content_key] = content_value\n",
    "    export_json(country_info)\n"
   ]
  },
  {
   "cell_type": "code",
   "execution_count": 72,
   "metadata": {},
   "outputs": [
    {
     "name": "stdout",
     "output_type": "stream",
     "text": [
      "[Errno 22] Invalid argument: 'Republic of South Africa 10 other official names Zulu : Xhosa : Afrikaans : Pedi : Southern\\xa0Sotho : Tswana : Tsonga : Swati : Venda : Southern Ndebele :.json'\n",
      "[Errno 22] Invalid argument: 'Kingdom of Spain Catalan : Basque : Galician : Occitan :.json'\n",
      "[Errno 22] Invalid argument: 'Republic of Uganda Official Name in Local Languages Luganda : Lusoga : Lumasaba :.json'\n",
      "[Errno 22] Invalid argument: 'Republic of Peru Quechua : Aymara :.json'\n",
      "[Errno 22] Invalid argument: 'Democratic Socialist Republic of Sri Lanka Sinhala : Tamil :.json'\n",
      "'NoneType' object has no attribute 'find_all'\n",
      "'NoneType' object has no attribute 'find_all'\n",
      "'NoneType' object has no attribute 'find_all'\n",
      "[Errno 22] Invalid argument: 'Republic of Singapore Malay : Mandarin : Tamil :.json'\n",
      "'NoneType' object has no attribute 'find_all'\n",
      "[Errno 22] Invalid argument: 'Republic of Namibia Name in national languages Afrikaans : German : Khoekhoegowab : Otjiherero : Oshiwambo : RuKwangali : Setswana : siLozi :.json'\n",
      "[Errno 2] No such file or directory: 'Republic of Kosovo /.json'\n",
      "'NoneType' object has no attribute 'find_all'\n",
      "'NoneType' object has no attribute 'find_all'\n",
      "'NoneType' object has no attribute 'find_all'\n",
      "'NoneType' object has no attribute 'find_all'\n",
      "'NoneType' object has no attribute 'find_all'\n",
      "'NoneType' object has no attribute 'find_all'\n",
      "'NoneType' object has no attribute 'find_all'\n",
      "'NoneType' object has no attribute 'find_all'\n",
      "'NoneType' object has no attribute 'find_all'\n",
      "'NoneType' object has no attribute 'find_all'\n",
      "'NoneType' object has no attribute 'find_all'\n",
      "'NoneType' object has no attribute 'find_all'\n",
      "'NoneType' object has no attribute 'find_all'\n",
      "'NoneType' object has no attribute 'find_all'\n",
      "'NoneType' object has no attribute 'find_all'\n",
      "'NoneType' object has no attribute 'find_all'\n",
      "'NoneType' object has no attribute 'find_all'\n",
      "'NoneType' object has no attribute 'find_all'\n",
      "'NoneType' object has no attribute 'find_all'\n",
      "'NoneType' object has no attribute 'find_all'\n",
      "'NoneType' object has no attribute 'find_all'\n",
      "'NoneType' object has no attribute 'find_all'\n",
      "'NoneType' object has no attribute 'find_all'\n",
      "'NoneType' object has no attribute 'find_all'\n",
      "'NoneType' object has no attribute 'find_all'\n",
      "'NoneType' object has no attribute 'find_all'\n",
      "'NoneType' object has no attribute 'find_all'\n",
      "'NoneType' object has no attribute 'find_all'\n",
      "'NoneType' object has no attribute 'find_all'\n",
      "'NoneType' object has no attribute 'find_all'\n",
      "'NoneType' object has no attribute 'find_all'\n",
      "'NoneType' object has no attribute 'find_all'\n",
      "'NoneType' object has no attribute 'find_all'\n",
      "'NoneType' object has no attribute 'find_all'\n",
      "'NoneType' object has no attribute 'find_all'\n"
     ]
    }
   ],
   "source": [
    "# make a list of all countries\n",
    "r = requests.get(\"https://en.wikipedia.org/wiki/List_of_countries_and_dependencies_by_population\")\n",
    "soup = bs(r.content)\n",
    "country_table = soup.find(\"table\", class_ = \"wikitable sortable\")\n",
    "country_links = []\n",
    "rows = country_table.find_all(\"tr\")\n",
    "for index, row in enumerate(rows):\n",
    "    if index >= 2:\n",
    "        link = row.find(\"a\")\n",
    "        country_links.append(link['href'])\n",
    "\n",
    "for link in country_links:\n",
    "    dict = {}\n",
    "    try:\n",
    "        get_info_box(link, dict)\n",
    "    except Exception as e:\n",
    "        print(e)\n",
    "\n"
   ]
  },
  {
   "cell_type": "code",
   "execution_count": 4,
   "metadata": {},
   "outputs": [
    {
     "name": "stdout",
     "output_type": "stream",
     "text": [
      "JSON file names in the directory:\n",
      "['Antigua and Barbuda.json', 'Arab Republic of Egypt جمهورية مصر العربية ( Arabic ).json', 'Argentine Republic.json', 'Barbados.json', 'Belize.json', 'Bolivarian Republic of Venezuela.json', 'Bosnia and Herzegovina.json', 'Brunei Darussalam.json', 'Burkina Faso.json', 'Canada.json', 'Central African Republic.json', 'Co-operative Republic of Guyana.json', 'Commonwealth of Australia.json', 'Commonwealth of Dominica.json', 'Commonwealth of The Bahamas.json', \"Cook Islands Kūki 'Āirani.json\", 'Czech Republic.json', \"Democratic People's Republic of Korea.json\", 'Democratic Republic of São Tomé and Príncipe.json', 'Democratic Republic of the Congo.json', 'Democratic Republic of.json', 'Dominican Republic.json', 'Federal Democratic Republic of Ethiopia.json', 'Federal Democratic Republic of Nepal.json', 'Federal Republic of Germany.json', 'Federal Republic of Nigeria.json', 'Federal Republic of Somalia.json', 'Federated States of Micronesia.json', 'Federation of Saint Christopher and Nevis.json', 'Federative Republic of Brazil.json', 'French Republic.json', 'Gabonese Republic.json', 'Georgia.json', 'Grand Duchy of Luxembourg.json', 'Grenada Gwenad ( Grenadian Creole French ).json', 'Hashemite Kingdom of Jordan.json', 'Hellenic Republic.json', 'Hungary.json', 'Iceland.json', 'Independent State of Papua New Guinea.json', 'Independent State of Samoa.json', 'Ireland.json', 'Islamic Emirate of Afghanistan.json', 'Islamic Republic of Iran.json', 'Islamic Republic of Mauritania.json', 'Islamic Republic of Pakistan.json', 'Italian Republic.json', 'Jamaica.json', 'Japan.json', 'Kingdom of Bahrain.json', 'Kingdom of Belgium.json', 'Kingdom of Bhutan.json', 'Kingdom of Cambodia.json', 'Kingdom of Eswatini.json', 'Kingdom of Lesotho.json', 'Kingdom of Morocco.json', 'Kingdom of Norway Other official names.json', 'Kingdom of Saudi Arabia.json', 'Kingdom of Sweden.json', 'Kingdom of Thailand.json', 'Kingdom of Tonga.json', \"Lao People's Democratic Republic.json\", 'Malaysia.json', 'Mongolia ( Mongolian ).json', 'Montenegro.json', 'New Zealand.json', 'Niue.json', 'Oriental Republic of Uruguay.json', \"People's Democratic Republic of Algeria.json\", \"People's Republic of Bangladesh Gônoprojatontrī Bangladesh.json\", \"People's Republic of China.json\", 'Plurinational State of Bolivia.json', 'Portuguese Republic.json', 'Pridnestrovian Moldavian Republic.json', 'Principality of Andorra.json', 'Principality of Liechtenstein.json', 'Principality of Monaco.json', 'raw_data.json', 'Republic of Abkhazia.json', 'Republic of Albania.json', 'Republic of Angola.json', 'Republic of Armenia.json', 'Republic of Artsakh Republic of Nagorno-Karabakh.json', 'Republic of Austria.json', 'Republic of Azerbaijan.json', 'Republic of Belarus.json', 'Republic of Benin.json', 'Republic of Botswana.json', 'Republic of Bulgaria.json', 'Republic of Burundi.json', 'Republic of Cabo Verde.json', 'Republic of Cameroon.json', 'Republic of Chad.json', 'Republic of Chile.json', 'Republic of China.json', 'Republic of Colombia ( Spanish ).json', 'Republic of Costa Rica.json', 'Republic of Croatia.json', 'Republic of Cuba.json', 'Republic of Cyprus.json', \"Republic of Côte d'Ivoire République de Côte d'Ivoire.json\", 'Republic of Djibouti.json', 'Republic of Ecuador ( Spanish ).json', 'Republic of El Salvador.json', 'Republic of Equatorial Guinea.json', 'Republic of Estonia.json', 'Republic of Fiji फ़िजी गणराज्य Fijī Gaṇarājya ( Fiji Hindi ).json', 'Republic of Finland.json', 'Republic of Ghana.json', 'Republic of Guatemala.json', 'Republic of Guinea-Bissau.json', 'Republic of Guinea.json', 'Republic of Haiti ( French ).json', 'Republic of Honduras.json', 'Republic of India.json', 'Republic of Indonesia.json', 'Republic of Iraq.json', 'Republic of Kazakhstan.json', 'Republic of Kenya.json', 'Republic of Kiribati.json', 'Republic of Korea.json', 'Republic of Latvia.json', 'Republic of Lebanon ( Arabic ).json', 'Republic of Liberia.json', 'Republic of Lithuania.json', 'Republic of Madagascar.json', 'Republic of Malawi ( Chichewa ) ( Chitumbuka ).json', 'Republic of Maldives.json', 'Republic of Mali.json', 'Republic of Malta.json', 'Republic of Mauritius.json', 'Republic of Moldova.json', 'Republic of Mozambique.json', 'Republic of Nauru.json', 'Republic of Nicaragua ( Spanish ).json', 'Republic of North Macedonia.json', 'Republic of Palau.json', 'Republic of Panama.json', 'Republic of Paraguay.json', 'Republic of Poland.json', 'Republic of Rwanda.json', 'Republic of San Marino.json', 'Republic of Senegal.json', 'Republic of Serbia.json', 'Republic of Seychelles République des Seychelles ( French ) Repiblik Sesel ( Seychellois Creole ).json', 'Republic of Sierra Leone.json', 'Republic of Slovenia.json', 'Republic of South Ossetia – the State of Alania.json', 'Republic of South Sudan.json', 'Republic of Suriname.json', 'Republic of Tajikistan.json', 'Republic of the Congo.json', 'Republic of The Gambia.json', 'Republic of the Marshall Islands.json', 'Republic of the Niger.json', 'Republic of the Philippines.json', 'Republic of the Sudan.json', 'Republic of the Union of Myanmar.json', 'Republic of Trinidad and Tobago.json', 'Republic of Tunisia الجمهورية التونسية ( Arabic ).json', 'Republic of Türkiye.json', 'Republic of Uzbekistan , ( Uzbek ).json', 'Republic of Vanuatu.json', 'Republic of Yemen.json', 'Republic of Zambia.json', 'Republic of Zimbabwe.json', 'Romania.json', 'Russian Federation.json', 'Saint Lucia.json', 'Saint Vincent and the Grenadines.json', 'Slovak Republic.json', 'Socialist Republic of Vietnam.json', 'Solomon Islands Solomon Aelan ( Pijin ).json', 'State of Eritrea.json', 'State of Israel.json', 'State of Kuwait.json', 'State of Libya.json', 'State of Palestine.json', 'State of Qatar دولة قطر ( Arabic ).json', 'Sultanate of Oman.json', 'Swiss Confederation Confoederatio helvetica ( Latin ).json', 'Syrian Arab Republic.json', 'Togolese Republic.json', 'Turkish Republic of Northern Cyprus.json', 'Turkmenistan.json', 'Tuvalu.json', 'Ukraine.json', 'Union of the Comoros.json', 'United Arab Emirates.json', 'United Kingdom of Great Britain and Northern Ireland.json', 'United Mexican States.json', 'United Republic of Tanzania.json', 'United States of America.json', 'Vatican City State.json']\n"
     ]
    }
   ],
   "source": [
    "import os\n",
    "\n",
    "def get_json_file_names(directory):\n",
    "    json_file_names = []\n",
    "    \n",
    "    for filename in os.listdir(directory):\n",
    "        if filename.endswith('.json'):\n",
    "            json_file_names.append(filename)\n",
    "    \n",
    "    return json_file_names\n",
    "\n",
    "# Directory containing JSON files\n",
    "json_directory = 'data'\n",
    "\n",
    "# Get the names of all JSON files in the directory\n",
    "json_files_list = get_json_file_names(json_directory)\n",
    "\n",
    "# Print the list of JSON file names\n",
    "print(\"JSON file names in the directory:\")\n",
    "print(json_files_list)\n"
   ]
  },
  {
   "cell_type": "code",
   "execution_count": 6,
   "metadata": {},
   "outputs": [
    {
     "ename": "FileNotFoundError",
     "evalue": "[Errno 2] No such file or directory: 'Antigua and Barbuda.json'",
     "output_type": "error",
     "traceback": [
      "\u001b[1;31m---------------------------------------------------------------------------\u001b[0m",
      "\u001b[1;31mFileNotFoundError\u001b[0m                         Traceback (most recent call last)",
      "\u001b[1;32md:\\coding\\python practice\\practical stuff\\data science\\scraping\\country data scraping\\india.ipynb Cell 6\u001b[0m line \u001b[0;36m5\n\u001b[0;32m      <a href='vscode-notebook-cell:/d%3A/coding/python%20practice/practical%20stuff/data%20science/scraping/country%20data%20scraping/india.ipynb#W4sZmlsZQ%3D%3D?line=1'>2</a>\u001b[0m \u001b[39mimport\u001b[39;00m \u001b[39mcsv\u001b[39;00m\n\u001b[0;32m      <a href='vscode-notebook-cell:/d%3A/coding/python%20practice/practical%20stuff/data%20science/scraping/country%20data%20scraping/india.ipynb#W4sZmlsZQ%3D%3D?line=3'>4</a>\u001b[0m \u001b[39mfor\u001b[39;00m file \u001b[39min\u001b[39;00m json_files_list: \n\u001b[1;32m----> <a href='vscode-notebook-cell:/d%3A/coding/python%20practice/practical%20stuff/data%20science/scraping/country%20data%20scraping/india.ipynb#W4sZmlsZQ%3D%3D?line=4'>5</a>\u001b[0m     \u001b[39mwith\u001b[39;00m \u001b[39mopen\u001b[39;49m(file) \u001b[39mas\u001b[39;00m json_file:\n\u001b[0;32m      <a href='vscode-notebook-cell:/d%3A/coding/python%20practice/practical%20stuff/data%20science/scraping/country%20data%20scraping/india.ipynb#W4sZmlsZQ%3D%3D?line=5'>6</a>\u001b[0m         jsondata \u001b[39m=\u001b[39m json\u001b[39m.\u001b[39mload(json_file)\n\u001b[0;32m      <a href='vscode-notebook-cell:/d%3A/coding/python%20practice/practical%20stuff/data%20science/scraping/country%20data%20scraping/india.ipynb#W4sZmlsZQ%3D%3D?line=7'>8</a>\u001b[0m     data_file \u001b[39m=\u001b[39m \u001b[39mopen\u001b[39m(file[:\u001b[39m-\u001b[39m\u001b[39m5\u001b[39m] \u001b[39m+\u001b[39m \u001b[39m\"\u001b[39m\u001b[39m.csv\u001b[39m\u001b[39m\"\u001b[39m, \u001b[39m'\u001b[39m\u001b[39mw\u001b[39m\u001b[39m'\u001b[39m, newline\u001b[39m=\u001b[39m\u001b[39m'\u001b[39m\u001b[39m'\u001b[39m)\n",
      "File \u001b[1;32m~\\AppData\\Roaming\\Python\\Python310\\site-packages\\IPython\\core\\interactiveshell.py:286\u001b[0m, in \u001b[0;36m_modified_open\u001b[1;34m(file, *args, **kwargs)\u001b[0m\n\u001b[0;32m    279\u001b[0m \u001b[39mif\u001b[39;00m file \u001b[39min\u001b[39;00m {\u001b[39m0\u001b[39m, \u001b[39m1\u001b[39m, \u001b[39m2\u001b[39m}:\n\u001b[0;32m    280\u001b[0m     \u001b[39mraise\u001b[39;00m \u001b[39mValueError\u001b[39;00m(\n\u001b[0;32m    281\u001b[0m         \u001b[39mf\u001b[39m\u001b[39m\"\u001b[39m\u001b[39mIPython won\u001b[39m\u001b[39m'\u001b[39m\u001b[39mt let you open fd=\u001b[39m\u001b[39m{\u001b[39;00mfile\u001b[39m}\u001b[39;00m\u001b[39m by default \u001b[39m\u001b[39m\"\u001b[39m\n\u001b[0;32m    282\u001b[0m         \u001b[39m\"\u001b[39m\u001b[39mas it is likely to crash IPython. If you know what you are doing, \u001b[39m\u001b[39m\"\u001b[39m\n\u001b[0;32m    283\u001b[0m         \u001b[39m\"\u001b[39m\u001b[39myou can use builtins\u001b[39m\u001b[39m'\u001b[39m\u001b[39m open.\u001b[39m\u001b[39m\"\u001b[39m\n\u001b[0;32m    284\u001b[0m     )\n\u001b[1;32m--> 286\u001b[0m \u001b[39mreturn\u001b[39;00m io_open(file, \u001b[39m*\u001b[39margs, \u001b[39m*\u001b[39m\u001b[39m*\u001b[39mkwargs)\n",
      "\u001b[1;31mFileNotFoundError\u001b[0m: [Errno 2] No such file or directory: 'Antigua and Barbuda.json'"
     ]
    }
   ],
   "source": [
    "import json\n",
    "import csv\n",
    "\n",
    "for file in json_files_list: \n",
    "    with open(file) as json_file:\n",
    "        jsondata = json.load(json_file)\n",
    "    \n",
    "    data_file = open(file[:-5] + \".csv\", 'w', newline='')\n",
    "    csv_writer = csv.writer(data_file)\n",
    "    \n",
    "    count = 0\n",
    "    for data in jsondata:\n",
    "        if count == 0:\n",
    "            header = data.keys()\n",
    "            csv_writer.writerow(header)\n",
    "            count += 1\n",
    "        csv_writer.writerow(data.values())\n",
    "    \n",
    "    data_file.close()"
   ]
  }
 ],
 "metadata": {
  "kernelspec": {
   "display_name": "Python 3",
   "language": "python",
   "name": "python3"
  },
  "language_info": {
   "codemirror_mode": {
    "name": "ipython",
    "version": 3
   },
   "file_extension": ".py",
   "mimetype": "text/x-python",
   "name": "python",
   "nbconvert_exporter": "python",
   "pygments_lexer": "ipython3",
   "version": "3.10.6"
  }
 },
 "nbformat": 4,
 "nbformat_minor": 2
}
